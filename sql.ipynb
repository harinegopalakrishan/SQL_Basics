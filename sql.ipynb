{
  "nbformat": 4,
  "nbformat_minor": 0,
  "metadata": {
    "colab": {
      "provenance": [],
      "toc_visible": true
    },
    "kernelspec": {
      "name": "python3",
      "display_name": "Python 3"
    },
    "language_info": {
      "name": "python"
    }
  },
  "cells": [
    {
      "cell_type": "markdown",
      "source": [
        "## **SQL BASICS**"
      ],
      "metadata": {
        "id": "iOQTucVYQeDE"
      }
    },
    {
      "cell_type": "markdown",
      "source": [
        "### **Import Necessary Libraries**"
      ],
      "metadata": {
        "id": "3Kl7yhtGaMmk"
      }
    },
    {
      "cell_type": "code",
      "execution_count": null,
      "metadata": {
        "id": "hnLOH9U0P2W0"
      },
      "outputs": [],
      "source": [
        "import sqlite3"
      ]
    },
    {
      "cell_type": "markdown",
      "source": [
        "### **Connect to SQLite**"
      ],
      "metadata": {
        "id": "RGqHWHd2aR4V"
      }
    },
    {
      "cell_type": "code",
      "source": [
        "# Connect to SQLite database (in-memory database for demonstration)\n",
        "conn = sqlite3.connect(':memory:')\n",
        "cursor = conn.cursor()"
      ],
      "metadata": {
        "id": "I-3X_XE1jIyh"
      },
      "execution_count": null,
      "outputs": []
    },
    {
      "cell_type": "markdown",
      "source": [
        "### **Create Table**"
      ],
      "metadata": {
        "id": "KiH_MpucKbXq"
      }
    },
    {
      "cell_type": "code",
      "source": [
        "# Create a table\n",
        "cursor.execute('''\n",
        "CREATE TABLE employee (\n",
        "    id INTEGER PRIMARY KEY,\n",
        "    name TEXT,\n",
        "    age INTEGER,\n",
        "    dept TEXT\n",
        ")\n",
        "''')"
      ],
      "metadata": {
        "colab": {
          "base_uri": "https://localhost:8080/"
        },
        "id": "XBUvI-cKjQs-",
        "outputId": "1d0eb94b-0929-44a6-fa58-22e06295571b"
      },
      "execution_count": null,
      "outputs": [
        {
          "output_type": "execute_result",
          "data": {
            "text/plain": [
              "<sqlite3.Cursor at 0x7e2db2a5b740>"
            ]
          },
          "metadata": {},
          "execution_count": 4
        }
      ]
    },
    {
      "cell_type": "markdown",
      "source": [
        "### **Delete Table**"
      ],
      "metadata": {
        "id": "MQiZLV0Yu4Ed"
      }
    },
    {
      "cell_type": "code",
      "source": [
        "# cursor.execute('''DROP TABLE employee''')"
      ],
      "metadata": {
        "id": "YXAanCrYkXT0"
      },
      "execution_count": null,
      "outputs": []
    },
    {
      "cell_type": "markdown",
      "source": [
        "### **Insert Data**"
      ],
      "metadata": {
        "id": "qXEdh91nvyZx"
      }
    },
    {
      "cell_type": "code",
      "source": [
        "# Insert data into the table\n",
        "cursor.execute('''\n",
        "INSERT INTO employee (name, age, dept)\n",
        "VALUES ('Harine', 24, 'Device')\n",
        "''')\n",
        "cursor.execute('''\n",
        "INSERT INTO employee (name, age, dept)\n",
        "VALUES ('Karkavelraja',19, 'DataScience')\n",
        "''')\n",
        "cursor.execute('''\n",
        "INSERT INTO employee (name, age, dept)\n",
        "VALUES ('Jagan',24, 'Testing')\n",
        "''')"
      ],
      "metadata": {
        "colab": {
          "base_uri": "https://localhost:8080/"
        },
        "id": "tubboziXlCVW",
        "outputId": "a5ffa908-ca95-4efd-bb06-6baac7ce143d"
      },
      "execution_count": null,
      "outputs": [
        {
          "output_type": "execute_result",
          "data": {
            "text/plain": [
              "<sqlite3.Cursor at 0x7e2db2a5b740>"
            ]
          },
          "metadata": {},
          "execution_count": 10
        }
      ]
    },
    {
      "cell_type": "code",
      "source": [
        "conn.commit()"
      ],
      "metadata": {
        "id": "Bkg3fXPbnVGQ"
      },
      "execution_count": null,
      "outputs": []
    },
    {
      "cell_type": "code",
      "source": [
        "# Select data from the table\n",
        "cursor.execute('SELECT * FROM employee')\n",
        "rows = cursor.fetchall()"
      ],
      "metadata": {
        "id": "6eQhtqEan38H"
      },
      "execution_count": null,
      "outputs": []
    },
    {
      "cell_type": "code",
      "source": [
        "# Display the data\n",
        "for row in rows:\n",
        "    print(row)"
      ],
      "metadata": {
        "colab": {
          "base_uri": "https://localhost:8080/"
        },
        "id": "cOM_pfVan_LY",
        "outputId": "4daa9069-d916-43b8-ac85-3766dfff5eea"
      },
      "execution_count": null,
      "outputs": [
        {
          "output_type": "stream",
          "name": "stdout",
          "text": [
            "(1, 'Harine', 24, 'Device')\n",
            "(2, 'Karkavelraja', 19, 'DataScience')\n",
            "(3, 'Jagan', 24, 'Testing')\n"
          ]
        }
      ]
    },
    {
      "cell_type": "markdown",
      "source": [
        "### **Insert New Data**"
      ],
      "metadata": {
        "id": "NITze308w5yb"
      }
    },
    {
      "cell_type": "code",
      "source": [
        "cursor.execute('''\n",
        "INSERT INTO employee (name, age, dept)\n",
        "VALUES ('Stuart',5, 'All rounder')\n",
        "''')"
      ],
      "metadata": {
        "colab": {
          "base_uri": "https://localhost:8080/"
        },
        "id": "9wqqJW68p6Xc",
        "outputId": "ff6a6027-4aa1-42a2-ec73-b88a958fd1a1"
      },
      "execution_count": null,
      "outputs": [
        {
          "output_type": "execute_result",
          "data": {
            "text/plain": [
              "<sqlite3.Cursor at 0x7e2db2a5b740>"
            ]
          },
          "metadata": {},
          "execution_count": 17
        }
      ]
    },
    {
      "cell_type": "code",
      "source": [
        "conn.commit()"
      ],
      "metadata": {
        "id": "RY6wwhD6rqwi"
      },
      "execution_count": null,
      "outputs": []
    },
    {
      "cell_type": "code",
      "source": [
        "cursor.execute('SELECT * FROM employee')\n",
        "rows = cursor.fetchall()\n",
        "for row in rows:\n",
        "    print(row)"
      ],
      "metadata": {
        "colab": {
          "base_uri": "https://localhost:8080/"
        },
        "id": "0NvAtdkvrsxU",
        "outputId": "23ac335b-3d5d-4d3c-b629-42549b617b86"
      },
      "execution_count": null,
      "outputs": [
        {
          "output_type": "stream",
          "name": "stdout",
          "text": [
            "(1, 'Harine', 24, 'Device')\n",
            "(2, 'Karkavelraja', 19, 'DataScience')\n",
            "(3, 'Jagan', 24, 'Testing')\n",
            "(4, 'Stuart', 5, 'All rounder')\n"
          ]
        }
      ]
    },
    {
      "cell_type": "markdown",
      "source": [
        "### **Delete Data**"
      ],
      "metadata": {
        "id": "XwGdx_o4w_pN"
      }
    },
    {
      "cell_type": "code",
      "source": [
        "cursor.execute('''\n",
        "DELETE FROM employee WHERE id = 4\n",
        "''')"
      ],
      "metadata": {
        "colab": {
          "base_uri": "https://localhost:8080/"
        },
        "id": "Yt-gIHjzrxHG",
        "outputId": "c171175e-d98c-41d9-d6c9-b596015670a9"
      },
      "execution_count": null,
      "outputs": [
        {
          "output_type": "execute_result",
          "data": {
            "text/plain": [
              "<sqlite3.Cursor at 0x7e2db2a5b740>"
            ]
          },
          "metadata": {},
          "execution_count": 20
        }
      ]
    },
    {
      "cell_type": "code",
      "source": [
        "conn.commit()"
      ],
      "metadata": {
        "id": "IMbzBpT5r1zL"
      },
      "execution_count": null,
      "outputs": []
    },
    {
      "cell_type": "code",
      "source": [
        "cursor.execute('SELECT * FROM employee')\n",
        "rows = cursor.fetchall()\n",
        "for row in rows:\n",
        "    print(row)"
      ],
      "metadata": {
        "colab": {
          "base_uri": "https://localhost:8080/"
        },
        "id": "1pE281UnsFJL",
        "outputId": "40513bf7-ff61-432e-9f0c-c88d38c83ffa"
      },
      "execution_count": null,
      "outputs": [
        {
          "output_type": "stream",
          "name": "stdout",
          "text": [
            "(1, 'Harine', 24, 'Device')\n",
            "(2, 'Karkavelraja', 19, 'DataScience')\n",
            "(3, 'Jagan', 24, 'Testing')\n"
          ]
        }
      ]
    },
    {
      "cell_type": "markdown",
      "source": [
        "### **Update Data**"
      ],
      "metadata": {
        "id": "mfViYLU9xPWU"
      }
    },
    {
      "cell_type": "code",
      "source": [
        "cursor.execute('''\n",
        "UPDATE employee SET age = 24 WHERE dept = 'DataScience'\n",
        "''')"
      ],
      "metadata": {
        "colab": {
          "base_uri": "https://localhost:8080/"
        },
        "id": "6yUG25czsHAr",
        "outputId": "d47f5814-1172-4b0b-91f6-6c386a042ba1"
      },
      "execution_count": null,
      "outputs": [
        {
          "output_type": "execute_result",
          "data": {
            "text/plain": [
              "<sqlite3.Cursor at 0x7e2db2a5b740>"
            ]
          },
          "metadata": {},
          "execution_count": 23
        }
      ]
    },
    {
      "cell_type": "code",
      "source": [
        "conn.commit()"
      ],
      "metadata": {
        "id": "FLJBpq4WsQHM"
      },
      "execution_count": null,
      "outputs": []
    },
    {
      "cell_type": "code",
      "source": [
        "cursor.execute('SELECT * FROM employee')\n",
        "rows = cursor.fetchall()\n",
        "for row in rows:\n",
        "    print(row)"
      ],
      "metadata": {
        "colab": {
          "base_uri": "https://localhost:8080/"
        },
        "id": "bCGYcjfSsWUU",
        "outputId": "de703021-f47b-4dd9-c5ae-b3c27ac926df"
      },
      "execution_count": null,
      "outputs": [
        {
          "output_type": "stream",
          "name": "stdout",
          "text": [
            "(1, 'Harine', 24, 'Device')\n",
            "(2, 'Karkavelraja', 24, 'DataScience')\n",
            "(3, 'Jagan', 24, 'Testing')\n"
          ]
        }
      ]
    },
    {
      "cell_type": "markdown",
      "source": [
        "### **Creating One More Table for Join Command**"
      ],
      "metadata": {
        "id": "T4-FJy5PxoOP"
      }
    },
    {
      "cell_type": "code",
      "source": [
        "cursor.execute('''\n",
        "CREATE TABLE Education (\n",
        "    id INTEGER PRIMARY KEY,\n",
        "    degree TEXT\n",
        ")\n",
        "''')"
      ],
      "metadata": {
        "colab": {
          "base_uri": "https://localhost:8080/"
        },
        "id": "rbB_G8zCsZp8",
        "outputId": "9d9160bb-7318-4c34-9eb5-10d2272fa578"
      },
      "execution_count": null,
      "outputs": [
        {
          "output_type": "execute_result",
          "data": {
            "text/plain": [
              "<sqlite3.Cursor at 0x7e2db2a5b740>"
            ]
          },
          "metadata": {},
          "execution_count": 30
        }
      ]
    },
    {
      "cell_type": "markdown",
      "source": [
        "### **Insert Data into the New Table**"
      ],
      "metadata": {
        "id": "6MCupti8xsxZ"
      }
    },
    {
      "cell_type": "code",
      "source": [
        "cursor.execute(\"INSERT INTO Education (degree) VALUES ('Btech')\")\n",
        "cursor.execute(\"INSERT INTO Education (degree) VALUES ('Mtech')\")\n",
        "cursor.execute(\"INSERT INTO Education (degree) VALUES ('Btech')\")"
      ],
      "metadata": {
        "colab": {
          "base_uri": "https://localhost:8080/"
        },
        "id": "TDPxPzT6u2Px",
        "outputId": "8003f78f-0aa0-4a26-fc27-53d260748b1c"
      },
      "execution_count": null,
      "outputs": [
        {
          "output_type": "execute_result",
          "data": {
            "text/plain": [
              "<sqlite3.Cursor at 0x7e2db2a5b740>"
            ]
          },
          "metadata": {},
          "execution_count": 31
        }
      ]
    },
    {
      "cell_type": "code",
      "source": [
        "conn.commit()"
      ],
      "metadata": {
        "id": "UzfwQJvrvGcQ"
      },
      "execution_count": null,
      "outputs": []
    },
    {
      "cell_type": "code",
      "source": [
        "cursor.execute('SELECT * FROM Education')\n",
        "rows = cursor.fetchall()\n",
        "for row in rows:\n",
        "    print(row)"
      ],
      "metadata": {
        "colab": {
          "base_uri": "https://localhost:8080/"
        },
        "id": "zoa9-MhKvTon",
        "outputId": "2c7df4da-f174-4875-8dd9-a1813671c357"
      },
      "execution_count": null,
      "outputs": [
        {
          "output_type": "stream",
          "name": "stdout",
          "text": [
            "(1, 'Btech')\n",
            "(2, 'Mtech')\n",
            "(3, 'Btech')\n"
          ]
        }
      ]
    },
    {
      "cell_type": "code",
      "source": [
        "cursor.execute('SELECT * FROM employee')\n",
        "rows = cursor.fetchall()\n",
        "for row in rows:\n",
        "    print(row)"
      ],
      "metadata": {
        "colab": {
          "base_uri": "https://localhost:8080/"
        },
        "id": "L8YfyqZRvbOb",
        "outputId": "7ed38f1f-dc49-441d-ce57-eac8a1b9e52a"
      },
      "execution_count": null,
      "outputs": [
        {
          "output_type": "stream",
          "name": "stdout",
          "text": [
            "(1, 'Harine', 24, 'Device')\n",
            "(2, 'Karkavelraja', 24, 'DataScience')\n",
            "(3, 'Jagan', 24, 'Testing')\n"
          ]
        }
      ]
    },
    {
      "cell_type": "markdown",
      "source": [
        "### **Join Two Tables**"
      ],
      "metadata": {
        "id": "RjIt9rG2x5k6"
      }
    },
    {
      "cell_type": "code",
      "source": [
        "# Joining two tables\n",
        "cursor.execute('''\n",
        "SELECT employee.name, Education.degree\n",
        "FROM employee\n",
        "JOIN Education ON employee.id = Education.id\n",
        "''')\n",
        "rows = cursor.fetchall()\n",
        "for row in rows:\n",
        "    print(row)"
      ],
      "metadata": {
        "colab": {
          "base_uri": "https://localhost:8080/"
        },
        "id": "1L_B6Mu6wJoA",
        "outputId": "b13be5e1-89e1-4fbf-bfc6-f1753dfa3f53"
      },
      "execution_count": null,
      "outputs": [
        {
          "output_type": "stream",
          "name": "stdout",
          "text": [
            "('Harine', 'Btech')\n",
            "('Karkavelraja', 'Mtech')\n",
            "('Jagan', 'Btech')\n"
          ]
        }
      ]
    },
    {
      "cell_type": "markdown",
      "source": [
        "### **Group by and Aggregate**"
      ],
      "metadata": {
        "id": "sd1IzS0QylW_"
      }
    },
    {
      "cell_type": "code",
      "source": [
        "cursor.execute('''\n",
        "SELECT Education.degree, COUNT(*) as degree_count\n",
        "FROM employee\n",
        "JOIN Education ON employee.id = Education.id\n",
        "GROUP BY Education.degree\n",
        "''')\n",
        "\n",
        "rows = cursor.fetchall()\n",
        "\n",
        "print(\"\\nGrouped Data:\")\n",
        "for row in rows:\n",
        "    print(row)"
      ],
      "metadata": {
        "colab": {
          "base_uri": "https://localhost:8080/"
        },
        "id": "pieE96_2wz_S",
        "outputId": "2d0b73f2-83ce-4b43-99a6-116d073b6907"
      },
      "execution_count": null,
      "outputs": [
        {
          "output_type": "stream",
          "name": "stdout",
          "text": [
            "\n",
            "Grouped Data:\n",
            "('Btech', 2)\n",
            "('Mtech', 1)\n"
          ]
        }
      ]
    },
    {
      "cell_type": "markdown",
      "source": [
        "### **Order By**"
      ],
      "metadata": {
        "id": "bLWGnzDAzHXf"
      }
    },
    {
      "cell_type": "code",
      "source": [
        "# Ordering data\n",
        "cursor.execute('''\n",
        "SELECT name,dept FROM employee ORDER BY dept DESC\n",
        "''')\n",
        "rows = cursor.fetchall()\n",
        "print(\"\\nOrdered Data:\")\n",
        "for row in rows:\n",
        "    print(row)"
      ],
      "metadata": {
        "colab": {
          "base_uri": "https://localhost:8080/"
        },
        "id": "4Ppe5nzTxUVx",
        "outputId": "7917a8ba-e433-4bad-f130-7335cd6647c3"
      },
      "execution_count": null,
      "outputs": [
        {
          "output_type": "stream",
          "name": "stdout",
          "text": [
            "\n",
            "Ordered Data:\n",
            "('Jagan', 'Testing')\n",
            "('Harine', 'Device')\n",
            "('Karkavelraja', 'DataScience')\n"
          ]
        }
      ]
    }
  ]
}